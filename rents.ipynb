{
 "cells": [
  {
   "cell_type": "code",
   "execution_count": 252,
   "metadata": {},
   "outputs": [],
   "source": [
    "import pandas as pd # type: ignore\n",
    "import numpy as np # type: ignore\n",
    "import seaborn as sns # type: ignore\n",
    "import matplotlib.pyplot as plt # type: ignore\n",
    "sns.set_style('whitegrid')"
   ]
  },
  {
   "cell_type": "code",
   "execution_count": 253,
   "metadata": {},
   "outputs": [
    {
     "data": {
      "text/html": [
       "<div>\n",
       "<style scoped>\n",
       "    .dataframe tbody tr th:only-of-type {\n",
       "        vertical-align: middle;\n",
       "    }\n",
       "\n",
       "    .dataframe tbody tr th {\n",
       "        vertical-align: top;\n",
       "    }\n",
       "\n",
       "    .dataframe thead th {\n",
       "        text-align: right;\n",
       "    }\n",
       "</style>\n",
       "<table border=\"1\" class=\"dataframe\">\n",
       "  <thead>\n",
       "    <tr style=\"text-align: right;\">\n",
       "      <th></th>\n",
       "      <th>Title</th>\n",
       "      <th>More Info</th>\n",
       "      <th>Location</th>\n",
       "      <th>Price</th>\n",
       "      <th>Serviced</th>\n",
       "      <th>Newly Built</th>\n",
       "      <th>Furnished</th>\n",
       "      <th>Bedrooms</th>\n",
       "      <th>Bathrooms</th>\n",
       "      <th>Toilets</th>\n",
       "    </tr>\n",
       "  </thead>\n",
       "  <tbody>\n",
       "    <tr>\n",
       "      <th>0</th>\n",
       "      <td>Newly Built 4 Bedroom Semi Detached House With Bq</td>\n",
       "      <td>4 BEDROOM HOUSE FOR RENT</td>\n",
       "      <td>White Oak Estate, Ologolo Opp. Agungi, Ologolo...</td>\n",
       "      <td>5,000,000/year</td>\n",
       "      <td>0</td>\n",
       "      <td>1</td>\n",
       "      <td>0</td>\n",
       "      <td>4 beds</td>\n",
       "      <td>4 baths</td>\n",
       "      <td>5 Toilets</td>\n",
       "    </tr>\n",
       "    <tr>\n",
       "      <th>1</th>\n",
       "      <td>Superb 4 Bedroom Semi Detached Duplex With Bq</td>\n",
       "      <td>4 BEDROOM HOUSE FOR RENT</td>\n",
       "      <td>Hrc Estate Beside Vgc Estate, Vgc Lekki Lagos</td>\n",
       "      <td>5,000,000/year</td>\n",
       "      <td>0</td>\n",
       "      <td>1</td>\n",
       "      <td>0</td>\n",
       "      <td>4 beds</td>\n",
       "      <td>4 baths</td>\n",
       "      <td>5 Toilets</td>\n",
       "    </tr>\n",
       "    <tr>\n",
       "      <th>2</th>\n",
       "      <td>Furnished 2 Bedroom Terrace Duplex For Rent !!!</td>\n",
       "      <td>2 BEDROOM HOUSE FOR RENT</td>\n",
       "      <td>Osapa London Lekki Lagos</td>\n",
       "      <td>3,500,000</td>\n",
       "      <td>1</td>\n",
       "      <td>0</td>\n",
       "      <td>0</td>\n",
       "      <td>2 beds</td>\n",
       "      <td>3 baths</td>\n",
       "      <td>3 Toilets</td>\n",
       "    </tr>\n",
       "    <tr>\n",
       "      <th>3</th>\n",
       "      <td>2 Bedroom Apartment For Rent</td>\n",
       "      <td>2 BEDROOM HOUSE FOR RENT</td>\n",
       "      <td>Ologolo Lekki Lagos</td>\n",
       "      <td>2,700,000</td>\n",
       "      <td>1</td>\n",
       "      <td>1</td>\n",
       "      <td>0</td>\n",
       "      <td>2 beds</td>\n",
       "      <td>3 baths</td>\n",
       "      <td>3 Toilets</td>\n",
       "    </tr>\n",
       "    <tr>\n",
       "      <th>4</th>\n",
       "      <td>?? Brand New 2 Bedroom Flat For Rent!!! (groun...</td>\n",
       "      <td>2 BEDROOM HOUSE FOR RENT</td>\n",
       "      <td>Mojisola Onikoyi Ikoyi Lagos</td>\n",
       "      <td>5,000,000</td>\n",
       "      <td>1</td>\n",
       "      <td>1</td>\n",
       "      <td>0</td>\n",
       "      <td>2 beds</td>\n",
       "      <td>3 baths</td>\n",
       "      <td>3 Toilets</td>\n",
       "    </tr>\n",
       "    <tr>\n",
       "      <th>...</th>\n",
       "      <td>...</td>\n",
       "      <td>...</td>\n",
       "      <td>...</td>\n",
       "      <td>...</td>\n",
       "      <td>...</td>\n",
       "      <td>...</td>\n",
       "      <td>...</td>\n",
       "      <td>...</td>\n",
       "      <td>...</td>\n",
       "      <td>...</td>\n",
       "    </tr>\n",
       "    <tr>\n",
       "      <th>98075</th>\n",
       "      <td>4 Bedroom Duplex In Serene Neighborhood</td>\n",
       "      <td>4 BEDROOM HOUSE FOR RENT</td>\n",
       "      <td>Akala Akobo Ibadan Oyo</td>\n",
       "      <td>900,000</td>\n",
       "      <td>0</td>\n",
       "      <td>0</td>\n",
       "      <td>0</td>\n",
       "      <td>4 beds</td>\n",
       "      <td>4 baths</td>\n",
       "      <td>4 Toilets</td>\n",
       "    </tr>\n",
       "    <tr>\n",
       "      <th>98076</th>\n",
       "      <td>Lovely Built 3 Bedroom Flats Self Compound</td>\n",
       "      <td>3 BEDROOM SELF CONTAIN FOR RENT</td>\n",
       "      <td>Oluwaga Road. Baruwa Ipaja Lagos</td>\n",
       "      <td>500,000</td>\n",
       "      <td>0</td>\n",
       "      <td>1</td>\n",
       "      <td>1</td>\n",
       "      <td>3 beds</td>\n",
       "      <td>4 baths</td>\n",
       "      <td>4 Toilets</td>\n",
       "    </tr>\n",
       "    <tr>\n",
       "      <th>98077</th>\n",
       "      <td>Executive 2 Bedroom Flat</td>\n",
       "      <td>2 BEDROOM BLOCKS OF FLATS FOR RENT</td>\n",
       "      <td>By Sterling Bank Magboro Obafemi Owode Ogun</td>\n",
       "      <td>330,000</td>\n",
       "      <td>0</td>\n",
       "      <td>0</td>\n",
       "      <td>1</td>\n",
       "      <td>2 beds</td>\n",
       "      <td>3 baths</td>\n",
       "      <td>3 Toilets</td>\n",
       "    </tr>\n",
       "    <tr>\n",
       "      <th>98078</th>\n",
       "      <td>Executive Brand New 2 Bedroom Flat All Rooms E...</td>\n",
       "      <td>2 BEDROOM BLOCKS OF FLATS FOR RENT</td>\n",
       "      <td>Arepo Arepo Arepo Ogun</td>\n",
       "      <td>400,000</td>\n",
       "      <td>0</td>\n",
       "      <td>1</td>\n",
       "      <td>1</td>\n",
       "      <td>2 beds</td>\n",
       "      <td>3 baths</td>\n",
       "      <td>3 Toilets</td>\n",
       "    </tr>\n",
       "    <tr>\n",
       "      <th>98079</th>\n",
       "      <td>3 Bedroom Flat All Ensuit</td>\n",
       "      <td>3 BEDROOM BLOCKS OF FLATS FOR RENT</td>\n",
       "      <td>3bedroom Flat At Jeje Area, Apete.all Rooms En...</td>\n",
       "      <td>150,000</td>\n",
       "      <td>0</td>\n",
       "      <td>0</td>\n",
       "      <td>0</td>\n",
       "      <td>3 beds</td>\n",
       "      <td>3 baths</td>\n",
       "      <td>3 Toilets</td>\n",
       "    </tr>\n",
       "  </tbody>\n",
       "</table>\n",
       "<p>98080 rows × 10 columns</p>\n",
       "</div>"
      ],
      "text/plain": [
       "                                                   Title  \\\n",
       "0      Newly Built 4 Bedroom Semi Detached House With Bq   \n",
       "1          Superb 4 Bedroom Semi Detached Duplex With Bq   \n",
       "2        Furnished 2 Bedroom Terrace Duplex For Rent !!!   \n",
       "3                           2 Bedroom Apartment For Rent   \n",
       "4      ?? Brand New 2 Bedroom Flat For Rent!!! (groun...   \n",
       "...                                                  ...   \n",
       "98075            4 Bedroom Duplex In Serene Neighborhood   \n",
       "98076         Lovely Built 3 Bedroom Flats Self Compound   \n",
       "98077                           Executive 2 Bedroom Flat   \n",
       "98078  Executive Brand New 2 Bedroom Flat All Rooms E...   \n",
       "98079                          3 Bedroom Flat All Ensuit   \n",
       "\n",
       "                                More Info  \\\n",
       "0                4 BEDROOM HOUSE FOR RENT   \n",
       "1                4 BEDROOM HOUSE FOR RENT   \n",
       "2                2 BEDROOM HOUSE FOR RENT   \n",
       "3                2 BEDROOM HOUSE FOR RENT   \n",
       "4                2 BEDROOM HOUSE FOR RENT   \n",
       "...                                   ...   \n",
       "98075            4 BEDROOM HOUSE FOR RENT   \n",
       "98076     3 BEDROOM SELF CONTAIN FOR RENT   \n",
       "98077  2 BEDROOM BLOCKS OF FLATS FOR RENT   \n",
       "98078  2 BEDROOM BLOCKS OF FLATS FOR RENT   \n",
       "98079  3 BEDROOM BLOCKS OF FLATS FOR RENT   \n",
       "\n",
       "                                                Location           Price  \\\n",
       "0      White Oak Estate, Ologolo Opp. Agungi, Ologolo...  5,000,000/year   \n",
       "1          Hrc Estate Beside Vgc Estate, Vgc Lekki Lagos  5,000,000/year   \n",
       "2                               Osapa London Lekki Lagos       3,500,000   \n",
       "3                                    Ologolo Lekki Lagos       2,700,000   \n",
       "4                           Mojisola Onikoyi Ikoyi Lagos       5,000,000   \n",
       "...                                                  ...             ...   \n",
       "98075                             Akala Akobo Ibadan Oyo         900,000   \n",
       "98076                   Oluwaga Road. Baruwa Ipaja Lagos         500,000   \n",
       "98077        By Sterling Bank Magboro Obafemi Owode Ogun         330,000   \n",
       "98078                             Arepo Arepo Arepo Ogun         400,000   \n",
       "98079  3bedroom Flat At Jeje Area, Apete.all Rooms En...         150,000   \n",
       "\n",
       "       Serviced  Newly Built  Furnished Bedrooms Bathrooms    Toilets  \n",
       "0             0            1          0   4 beds   4 baths  5 Toilets  \n",
       "1             0            1          0   4 beds   4 baths  5 Toilets  \n",
       "2             1            0          0   2 beds   3 baths  3 Toilets  \n",
       "3             1            1          0   2 beds   3 baths  3 Toilets  \n",
       "4             1            1          0   2 beds   3 baths  3 Toilets  \n",
       "...         ...          ...        ...      ...       ...        ...  \n",
       "98075         0            0          0   4 beds   4 baths  4 Toilets  \n",
       "98076         0            1          1   3 beds   4 baths  4 Toilets  \n",
       "98077         0            0          1   2 beds   3 baths  3 Toilets  \n",
       "98078         0            1          1   2 beds   3 baths  3 Toilets  \n",
       "98079         0            0          0   3 beds   3 baths  3 Toilets  \n",
       "\n",
       "[98080 rows x 10 columns]"
      ]
     },
     "execution_count": 253,
     "metadata": {},
     "output_type": "execute_result"
    }
   ],
   "source": [
    "#importing dataset\n",
    "df = pd.read_csv('nigeria-rent.csv')\n",
    "#making a copy of the dataframe\n",
    "dfc = df.copy()\n",
    "dfc"
   ]
  },
  {
   "cell_type": "code",
   "execution_count": 254,
   "metadata": {},
   "outputs": [
    {
     "name": "stdout",
     "output_type": "stream",
     "text": [
      "<class 'pandas.core.frame.DataFrame'>\n",
      "RangeIndex: 98080 entries, 0 to 98079\n",
      "Data columns (total 10 columns):\n",
      " #   Column       Non-Null Count  Dtype \n",
      "---  ------       --------------  ----- \n",
      " 0   Title        98079 non-null  object\n",
      " 1   More Info    98080 non-null  object\n",
      " 2   Location     98080 non-null  object\n",
      " 3   Price        98080 non-null  object\n",
      " 4   Serviced     98080 non-null  int64 \n",
      " 5   Newly Built  98080 non-null  int64 \n",
      " 6   Furnished    98080 non-null  int64 \n",
      " 7   Bedrooms     98080 non-null  object\n",
      " 8   Bathrooms    98080 non-null  object\n",
      " 9   Toilets      98080 non-null  object\n",
      "dtypes: int64(3), object(7)\n",
      "memory usage: 7.5+ MB\n"
     ]
    }
   ],
   "source": [
    "#info on each column of the dataframe\n",
    "dfc.info()"
   ]
  },
  {
   "cell_type": "code",
   "execution_count": 255,
   "metadata": {},
   "outputs": [
    {
     "data": {
      "text/plain": [
       "Title          0\n",
       "More Info      0\n",
       "Location       0\n",
       "Price          0\n",
       "Serviced       0\n",
       "Newly Built    0\n",
       "Furnished      0\n",
       "Bedrooms       0\n",
       "Bathrooms      0\n",
       "Toilets        0\n",
       "dtype: int64"
      ]
     },
     "execution_count": 255,
     "metadata": {},
     "output_type": "execute_result"
    }
   ],
   "source": [
    "#Treating nulls in the data\n",
    "dfc.isnull().sum()\n",
    "dfc.dropna(inplace=True)\n",
    "dfc.isnull().sum()"
   ]
  },
  {
   "cell_type": "code",
   "execution_count": 256,
   "metadata": {},
   "outputs": [
    {
     "data": {
      "text/html": [
       "<div>\n",
       "<style scoped>\n",
       "    .dataframe tbody tr th:only-of-type {\n",
       "        vertical-align: middle;\n",
       "    }\n",
       "\n",
       "    .dataframe tbody tr th {\n",
       "        vertical-align: top;\n",
       "    }\n",
       "\n",
       "    .dataframe thead th {\n",
       "        text-align: right;\n",
       "    }\n",
       "</style>\n",
       "<table border=\"1\" class=\"dataframe\">\n",
       "  <thead>\n",
       "    <tr style=\"text-align: right;\">\n",
       "      <th></th>\n",
       "      <th>Title</th>\n",
       "      <th>Location</th>\n",
       "      <th>Price</th>\n",
       "      <th>Serviced</th>\n",
       "      <th>Newly Built</th>\n",
       "      <th>Furnished</th>\n",
       "      <th>Bedrooms</th>\n",
       "      <th>Bathrooms</th>\n",
       "      <th>Toilets</th>\n",
       "    </tr>\n",
       "  </thead>\n",
       "  <tbody>\n",
       "    <tr>\n",
       "      <th>0</th>\n",
       "      <td>Newly Built 4 Bedroom Semi Detached House With Bq</td>\n",
       "      <td>White Oak Estate, Ologolo Opp. Agungi, Ologolo...</td>\n",
       "      <td>5,000,000/year</td>\n",
       "      <td>0</td>\n",
       "      <td>1</td>\n",
       "      <td>0</td>\n",
       "      <td>4 beds</td>\n",
       "      <td>4 baths</td>\n",
       "      <td>5 Toilets</td>\n",
       "    </tr>\n",
       "    <tr>\n",
       "      <th>1</th>\n",
       "      <td>Superb 4 Bedroom Semi Detached Duplex With Bq</td>\n",
       "      <td>Hrc Estate Beside Vgc Estate, Vgc Lekki Lagos</td>\n",
       "      <td>5,000,000/year</td>\n",
       "      <td>0</td>\n",
       "      <td>1</td>\n",
       "      <td>0</td>\n",
       "      <td>4 beds</td>\n",
       "      <td>4 baths</td>\n",
       "      <td>5 Toilets</td>\n",
       "    </tr>\n",
       "    <tr>\n",
       "      <th>2</th>\n",
       "      <td>Furnished 2 Bedroom Terrace Duplex For Rent !!!</td>\n",
       "      <td>Osapa London Lekki Lagos</td>\n",
       "      <td>3,500,000</td>\n",
       "      <td>1</td>\n",
       "      <td>0</td>\n",
       "      <td>0</td>\n",
       "      <td>2 beds</td>\n",
       "      <td>3 baths</td>\n",
       "      <td>3 Toilets</td>\n",
       "    </tr>\n",
       "    <tr>\n",
       "      <th>3</th>\n",
       "      <td>2 Bedroom Apartment For Rent</td>\n",
       "      <td>Ologolo Lekki Lagos</td>\n",
       "      <td>2,700,000</td>\n",
       "      <td>1</td>\n",
       "      <td>1</td>\n",
       "      <td>0</td>\n",
       "      <td>2 beds</td>\n",
       "      <td>3 baths</td>\n",
       "      <td>3 Toilets</td>\n",
       "    </tr>\n",
       "    <tr>\n",
       "      <th>4</th>\n",
       "      <td>?? Brand New 2 Bedroom Flat For Rent!!! (groun...</td>\n",
       "      <td>Mojisola Onikoyi Ikoyi Lagos</td>\n",
       "      <td>5,000,000</td>\n",
       "      <td>1</td>\n",
       "      <td>1</td>\n",
       "      <td>0</td>\n",
       "      <td>2 beds</td>\n",
       "      <td>3 baths</td>\n",
       "      <td>3 Toilets</td>\n",
       "    </tr>\n",
       "  </tbody>\n",
       "</table>\n",
       "</div>"
      ],
      "text/plain": [
       "                                               Title  \\\n",
       "0  Newly Built 4 Bedroom Semi Detached House With Bq   \n",
       "1      Superb 4 Bedroom Semi Detached Duplex With Bq   \n",
       "2    Furnished 2 Bedroom Terrace Duplex For Rent !!!   \n",
       "3                       2 Bedroom Apartment For Rent   \n",
       "4  ?? Brand New 2 Bedroom Flat For Rent!!! (groun...   \n",
       "\n",
       "                                            Location           Price  \\\n",
       "0  White Oak Estate, Ologolo Opp. Agungi, Ologolo...  5,000,000/year   \n",
       "1      Hrc Estate Beside Vgc Estate, Vgc Lekki Lagos  5,000,000/year   \n",
       "2                           Osapa London Lekki Lagos       3,500,000   \n",
       "3                                Ologolo Lekki Lagos       2,700,000   \n",
       "4                       Mojisola Onikoyi Ikoyi Lagos       5,000,000   \n",
       "\n",
       "   Serviced  Newly Built  Furnished Bedrooms Bathrooms    Toilets  \n",
       "0         0            1          0   4 beds   4 baths  5 Toilets  \n",
       "1         0            1          0   4 beds   4 baths  5 Toilets  \n",
       "2         1            0          0   2 beds   3 baths  3 Toilets  \n",
       "3         1            1          0   2 beds   3 baths  3 Toilets  \n",
       "4         1            1          0   2 beds   3 baths  3 Toilets  "
      ]
     },
     "execution_count": 256,
     "metadata": {},
     "output_type": "execute_result"
    }
   ],
   "source": [
    "#dropping unnecessary more info column\n",
    "dfc.drop('More Info', axis = 1, inplace=True)\n",
    "dfc.head()"
   ]
  },
  {
   "cell_type": "code",
   "execution_count": 257,
   "metadata": {},
   "outputs": [],
   "source": [
    "#splitting the location column to get the states and city\n",
    "loc_split = dfc['Location'].str.split()\n",
    "state = [state[-1] for state in loc_split]\n",
    "city = list(loc_split.apply(lambda x: x[-2] if len(x) >= 2 else None))\n",
    "#replacing the location column value with the state values\n",
    "dfc['Location'] = state\n",
    "#creating a city column in the dataframe\n",
    "dfc['City'] = city"
   ]
  },
  {
   "cell_type": "code",
   "execution_count": 258,
   "metadata": {},
   "outputs": [
    {
     "data": {
      "text/plain": [
       "0        5000000.0\n",
       "1        5000000.0\n",
       "2        3500000.0\n",
       "3        2700000.0\n",
       "4        5000000.0\n",
       "           ...    \n",
       "98075     900000.0\n",
       "98076     500000.0\n",
       "98077     330000.0\n",
       "98078     400000.0\n",
       "98079     150000.0\n",
       "Name: Price, Length: 98079, dtype: float64"
      ]
     },
     "execution_count": 258,
     "metadata": {},
     "output_type": "execute_result"
    }
   ],
   "source": [
    "#changing the price column data type from object to float\n",
    "dfc['Price'] = dfc['Price'].str.replace('year', '').str.replace(',', '').str.replace('/', '')\n",
    "dfc['Price'] = pd.to_numeric(dfc['Price'], errors= 'coerce').dropna()\n",
    "dfc['Price']"
   ]
  },
  {
   "cell_type": "code",
   "execution_count": 259,
   "metadata": {},
   "outputs": [],
   "source": [
    "#defining a function to clean object columns that are supposed to be integers.\n",
    "def cleanup(data, colname, text):\n",
    "    '''This function replaces the strings and errors and converts the data to the intended format'''\n",
    "    data[colname] = data[colname].str.replace(text, '')\n",
    "    data[colname] = pd.to_numeric(data[colname], errors='coerce').fillna(0).astype(int)"
   ]
  },
  {
   "cell_type": "code",
   "execution_count": 266,
   "metadata": {},
   "outputs": [
    {
     "data": {
      "text/plain": [
       "dtype('int32')"
      ]
     },
     "execution_count": 266,
     "metadata": {},
     "output_type": "execute_result"
    }
   ],
   "source": [
    "#cleaning the bedrooms column\n",
    "cleanup(dfc, 'Bedrooms', ' beds')\n",
    "dfc['Bedrooms'].dtype"
   ]
  },
  {
   "cell_type": "code",
   "execution_count": 265,
   "metadata": {},
   "outputs": [
    {
     "data": {
      "text/plain": [
       "dtype('int32')"
      ]
     },
     "execution_count": 265,
     "metadata": {},
     "output_type": "execute_result"
    }
   ],
   "source": [
    "#cleaning the bathroom column\n",
    "cleanup(dfc, 'Bathrooms', ' baths')\n",
    "dfc['Bathrooms']"
   ]
  },
  {
   "cell_type": "code",
   "execution_count": 267,
   "metadata": {},
   "outputs": [
    {
     "data": {
      "text/plain": [
       "array([ 5,  3,  4,  6,  7,  2,  0,  1,  8, 10,  9])"
      ]
     },
     "execution_count": 267,
     "metadata": {},
     "output_type": "execute_result"
    }
   ],
   "source": [
    "#cleaning the toilet column\n",
    "cleanup(dfc, 'Toilets', ' Toilets')\n",
    "dfc['Toilets'].unique()"
   ]
  },
  {
   "cell_type": "code",
   "execution_count": 260,
   "metadata": {},
   "outputs": [
    {
     "data": {
      "image/png": "[encoded data removed]",
      "text/plain": [
       "<Figure size 1000x800 with 1 Axes>"
      ]
     },
     "metadata": {},
     "output_type": "display_data"
    }
   ],
   "source": [
    "#geographical distribution states level\n",
    "state_dist = dfc['Location'].value_counts(ascending=False)\n",
    "top_5_states = state_dist.head(5).index\n",
    "#filtering the data for the top 5 states\n",
    "top_states_data = dfc[dfc['Location'].isin(top_5_states)]\n",
    "#analyzing the distribution of properties in each city of each state\n",
    "top_state_dist = top_states_data.groupby(['Location', 'City']).size().sort_values(ascending=False).reset_index(name = 'Number of Properties')\n",
    "#visualizing the top 10 cities across each state\n",
    "top_cities = top_state_dist.head(10)\n",
    "\n",
    "plt.figure(figsize = (10,8))\n",
    "sns.barplot(x = 'Number of Properties', y = 'City', data = top_cities, palette='magma', hue= 'Location')\n",
    "plt.title('Top Cities in Top States by Number of Properties')\n",
    "plt.ylabel('Number of Properties')\n",
    "plt.xlabel('City')\n",
    "plt.legend(title='State')\n",
    "plt.tight_layout()\n",
    "plt.show()"
   ]
  },
  {
   "cell_type": "markdown",
   "metadata": {},
   "source": [
    "The above graph shows a comparison of the number of properties across various within the top 5 states: Lagos, Oyo, Abuja, Rivers, Ogun. From the chart, Lagos dominated the most with more properties than the other states combined and Ibadan being the only city from Oyo in this chart. \n",
    "The horizozntal bars represent each city and their length corresponding to the number of properties, insights from the chart above includes:\n",
    "\n",
    "* Lekki, which is located in Lagos state, has the highest number of properties by a large margin significantly beating other cities listed.\n",
    "* Ajah located in Lagos state and Ibadan located in Oyo state follow Lekki, with Ajah surpassing Ibadan with a slight margin and both significantly lesser than Lekki.\n",
    "* Cities located in Lagos state majorly dominates with high number of properties.\n",
    "* Overall, the distribution of number of properties built across each state is not uniform as we can see Lagos being the favourite location to build."
   ]
  }
 ],
 "metadata": {
  "kernelspec": {
   "display_name": "Python 3 (ipykernel)",
   "language": "python",
   "name": "python3"
  },
  "language_info": {
   "codemirror_mode": {
    "name": "ipython",
    "version": 3
   },
   "file_extension": ".py",
   "mimetype": "text/x-python",
   "name": "python",
   "nbconvert_exporter": "python",
   "pygments_lexer": "ipython3",
   "version": "3.11.5"
  }
 },
 "nbformat": 4,
 "nbformat_minor": 2
}
